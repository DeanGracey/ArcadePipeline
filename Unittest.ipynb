{
 "cells": [
  {
   "cell_type": "code",
   "execution_count": null,
   "metadata": {
    "collapsed": false
   },
   "outputs": [],
   "source": [
    "!rm -r /opt/notebooks/*.*cal"
   ]
  },
  {
   "cell_type": "code",
   "execution_count": null,
   "metadata": {
    "collapsed": false
   },
   "outputs": [],
   "source": [
    "%set_env PATH=/casa-release-4.7.1-el7/bin:/root/anaconda/bin:/root/anaconda/bin:/usr/local/sbin:/usr/local/bin:/usr/sbin:/usr/bin:/sbin:/bin\n",
    "import drivecasa\n",
    "import time\n",
    "import drivecasa\n",
    "import logging\n",
    "\n",
    "working_Directory = '/opt/notebooks'\n",
    "base = 'day2_TDEM0003_10s_norx'\n",
    "timestamp = time.strftime(\"%d%b%Y_%H%M%S\", time.localtime())\n",
    "logfile = 'casa_'+base+'_'+timestamp+'.log' \n",
    "\n",
    "logger = logging.getLogger(__name__)\n",
    "logging.basicConfig(filename = logfile, level=logging.DEBUG)\n",
    "\n",
    "#logger.info((time.strftime(\"%d%b%Y_%H%M%S\", time.localtime())) + \"Testing this info\")\n"
   ]
  },
  {
   "cell_type": "code",
   "execution_count": null,
   "metadata": {
    "collapsed": false
   },
   "outputs": [],
   "source": [
    "casa = drivecasa.Casapy(casa_logfile=logfile, working_dir = working_Directory)\n",
    "#casa = drivecasa.Casapy()"
   ]
  },
  {
   "cell_type": "code",
   "execution_count": null,
   "metadata": {
    "collapsed": false
   },
   "outputs": [],
   "source": [
    "script = []\n",
    "\n",
    "script.append(\"flagdata(vis='%s/day2_TDEM0003_10s_norx', mode='list', inpfile=[\\\"field='2,3' antenna='ea12' timerange='03:41:00~04:10:00'\\\", \\\"field='2,3' antenna='ea07,ea08' timerange='03:21:40~04:10:00' spw='1'\\\"])\" % working_Directory)\n",
    "script.append(\"gencal(vis='%s/day2_TDEM0003_10s_norx',caltable='antpos.cal',caltype='antpos',antenna='')\" % working_Directory)\n",
    "script.append(\"gencal(vis='%s/day2_TDEM0003_10s_norx',caltable='gaincurve.cal',caltype='gceff')\" % working_Directory)\n",
    "script.append(\"myTau = plotweather(vis='%s/day2_TDEM0003_10s_norx', doPlot=T)\" % working_Directory)\n",
    "script.append(\"gencal(vis='%s/day2_TDEM0003_10s_norx',caltable='opacity.cal',caltype='opac',spw='0,1', parameter=myTau)\" % working_Directory)\n",
    "script.append(\"gaincal(vis='%s/day2_TDEM0003_10s_norx', caltable='delays.cal', field='5', refant='ea02', gaintype='K', gaintable=['antpos.cal','gaincurve.cal','opacity.cal'])\" % working_Directory)\n",
    "script.append(\"gaincal(vis='%s/day2_TDEM0003_10s_norx',caltable='bpphase.gcal', field='5',spw='0~1:20~40', refant='ea02',calmode='p',solint='int',minsnr=2.0, gaintable=['antpos.cal','gaincurve.cal','opacity.cal','delays.cal'])\" % working_Directory)\n",
    "\n",
    "casa.run_script(script);"
   ]
  },
  {
   "cell_type": "code",
   "execution_count": null,
   "metadata": {
    "collapsed": false
   },
   "outputs": [],
   "source": [
    "script= []\n",
    "script.append(\"plotcal(caltable='bpphase.gcal', xaxis='time', yaxis='phase', iteration='antenna', subplot=331,plotrange=[0,0,-180,180], showgui=False, figfile='%s/img.png')\" % working_Directory)\n",
    "casa.run_script(script);"
   ]
  },
  {
   "cell_type": "code",
   "execution_count": null,
   "metadata": {
    "collapsed": false
   },
   "outputs": [],
   "source": [
    "from IPython.display import Image\n",
    "Image('img.png')"
   ]
  },
  {
   "cell_type": "code",
   "execution_count": null,
   "metadata": {
    "collapsed": true
   },
   "outputs": [],
   "source": []
  }
 ],
 "metadata": {
  "kernelspec": {
   "display_name": "Python 2",
   "language": "python",
   "name": "python2"
  },
  "language_info": {
   "codemirror_mode": {
    "name": "ipython",
    "version": 2
   },
   "file_extension": ".py",
   "mimetype": "text/x-python",
   "name": "python",
   "nbconvert_exporter": "python",
   "pygments_lexer": "ipython2",
   "version": "2.7.13"
  }
 },
 "nbformat": 4,
 "nbformat_minor": 2
}
